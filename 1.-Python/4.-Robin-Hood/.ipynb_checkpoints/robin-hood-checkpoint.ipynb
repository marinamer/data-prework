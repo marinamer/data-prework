{
 "cells": [
  {
   "cell_type": "markdown",
   "metadata": {},
   "source": [
    "<img src=\"https://bit.ly/2VnXWr2\" width=\"100\" align=\"left\"/>"
   ]
  },
  {
   "cell_type": "markdown",
   "metadata": {},
   "source": [
    "# Robin Hood\n",
    "Robin Hood has entered a competition to win the archery contest in Sherwood. With his bow and arrows, he needs to shoot on a target and try to hit as close as possible to the center.\n",
    "\n",
    "![](images/arrows.jpg)\n",
    "\n",
    "## Context\n",
    "In this challenge, the landing position of arrows shot by archers in the competition will be represented using 2-dimensional coordinates. \n",
    "\n",
    "In the 2-dimensional space, a point can be defined by a pair of values that correspond to the horizontal coordinate (x) and the vertical coordinate (y). For example, in our case, an arrow that hits the center of the archery target will land in position (0, 0) on the coordinate axes. \n",
    "\n",
    "The space can be divided into 4 zones (quadrants): Q1, Q2, Q3, Q4. If a point is in Q1, both its x coordinate and y coordinate are positive. Any point with a null x or y coordinate is considered to not belong to any quadrant. \n",
    "\n",
    "If you want to know more about the cartesian coordinate system, you can check this [link](https://en.wikipedia.org/wiki/Cartesian_coordinate_system). \n",
    "\n",
    "## Tools\n",
    "You don't necessarily need to use all the tools. Maybe you opt to use some of them or completely different ones, they are given to help you shape the exercise. Programming exercises can be solved in many different ways.\n",
    "* Data structures: **lists, sets, tuples**\n",
    "* Conditional statements: **if-elif-else**\n",
    "* Loop: **while/for**\n",
    "* Minimum (optional sorting)\n",
    "\n",
    "## Tasks\n",
    "Robin Hood has hit the following points:"
   ]
  },
  {
   "cell_type": "code",
   "execution_count": null,
   "metadata": {},
   "outputs": [],
   "source": [
    "points = [(4, 5), (-0, 2), (4, 7), (1, -3), (3, -2), (4, 5), (3, 2), (5, 7), (-5, 7), (2, 2), (-4, 5), (0, -2),\n",
    "          (-4, 7), (-1, 3), (-3, 2), (-4, -5), (-3, 2), (5, 7), (5, 7), (2, 2), (9, 9), (-8, -9)]"
   ]
  },
  {
   "cell_type": "markdown",
   "metadata": {},
   "source": [
    "#### 1. Robin Hood is famous for hitting an arrow with another arrow. Find the coordinates of the points where an arrow hits another arrow."
   ]
  },
  {
   "cell_type": "code",
   "execution_count": 1,
   "metadata": {},
   "outputs": [
    {
     "name": "stdout",
     "output_type": "stream",
     "text": [
      "6\n",
      "[[4, 5], [5, 7], [5, 7], [2, 2], [-3, 2], [5, 7]]\n"
     ]
    }
   ],
   "source": [
    "points = [(4, 5), (-0, 2), (4, 7), (1, -3), (3, -2), (4, 5), (3, 2), (5, 7), (-5, 7), (2, 2), (-4, 5), (0, -2),\n",
    "          (-4, 7), (-1, 3), (-3, 2), (-4, -5), (-3, 2), (5, 7), (5, 7), (2, 2), (9, 9), (-8, -9)]\n",
    "\n",
    "\n",
    "arrow_on_arrow = []\n",
    "\n",
    "arrow_on_arrow_count = 0\n",
    "\n",
    "for index, tuple in enumerate(points):\n",
    "    arrowX = tuple[0]\n",
    "    arrowY = tuple[1]\n",
    "    \n",
    "    \n",
    "    for z, tuple in enumerate(points,start=index+1):\n",
    "        if z < len(points): \n",
    "            if arrowX == points[z][0] and arrowY == points[z][1]:\n",
    "                arrow_on_arrow_count += 1\n",
    "                arrow_on_arrow.append([arrowX, arrowY])\n",
    "                \n",
    "    \n",
    "print(arrow_on_arrow_count)\n",
    "print(arrow_on_arrow)"
   ]
  },
  {
   "cell_type": "markdown",
   "metadata": {},
   "source": [
    "#### 2. Calculate how many arrows have fallen in each quadrant. \n",
    "**Note**: the arrows that fall in the axis (x=0 or y=0) don't belong to any quadrant."
   ]
  },
  {
   "cell_type": "code",
   "execution_count": 2,
   "metadata": {},
   "outputs": [
    {
     "name": "stdout",
     "output_type": "stream",
     "text": [
      "Arrows fallen in quadrant 1:  [(4, 5), (4, 7), (4, 5), (3, 2), (5, 7), (2, 2), (5, 7), (5, 7), (2, 2), (9, 9)]\n",
      "Arrows fallen in quadrant 2:  [(-5, 7), (-4, 5), (-4, 7), (-1, 3), (-3, 2), (-3, 2)]\n",
      "Arrows fallen in quadrant 3:  [(-4, -5), (-8, -9)]\n",
      "Arrows fallen in quadrant 4:  [(1, -3), (3, -2)]\n"
     ]
    }
   ],
   "source": [
    "points = [(4, 5), (-0, 2), (4, 7), (1, -3), (3, -2), (4, 5), (3, 2), (5, 7), (-5, 7), (2, 2), (-4, 5), (0, -2),\n",
    "          (-4, 7), (-1, 3), (-3, 2), (-4, -5), (-3, 2), (5, 7), (5, 7), (2, 2), (9, 9), (-8, -9)]\n",
    "\n",
    "Q1 = []\n",
    "Q2 = []\n",
    "Q3 = []\n",
    "Q4 = [] \n",
    "\n",
    "for index, tuple in enumerate(points):\n",
    "    arrowX = tuple[0]\n",
    "    arrowY = tuple[1]\n",
    "    if arrowX > 0 and arrowY > 0:\n",
    "        Q1.append((arrowX, arrowY))\n",
    "    elif arrowX < 0 and arrowY > 0:\n",
    "        Q2.append((arrowX, arrowY))\n",
    "    elif arrowX < 0 and arrowY < 0:\n",
    "        Q3.append((arrowX, arrowY))\n",
    "    elif arrowX > 0 and arrowY < 0:\n",
    "        Q4.append((arrowX, arrowY))\n",
    "        \n",
    "print(\"Arrows fallen in quadrant 1: \", Q1)\n",
    "print(\"Arrows fallen in quadrant 2: \", Q2)\n",
    "print(\"Arrows fallen in quadrant 3: \", Q3)\n",
    "print(\"Arrows fallen in quadrant 4: \", Q4)\n"
   ]
  },
  {
   "cell_type": "markdown",
   "metadata": {},
   "source": [
    "#### 3. Find the point closest to the center. Calculate its distance to the center. \n",
    "Take into account that there might be more than one point at the minimum distance to the center.\n",
    "\n",
    "**Hint**: Use the Euclidean distance. You can find more information about it [here](https://en.wikipedia.org/wiki/Euclidean_distance).  \n",
    "**Hint**: Defining a function that calculates the distance to the center can help."
   ]
  },
  {
   "cell_type": "code",
   "execution_count": 1,
   "metadata": {},
   "outputs": [
    {
     "name": "stdout",
     "output_type": "stream",
     "text": [
      "Closest coordenates to center:  [(0, 2), (0, -2)]\n",
      "Euclidean Distance to Center from  (0, 2) : 2.0\n",
      "Euclidean Distance to Center from  (0, -2) : 2.0\n"
     ]
    }
   ],
   "source": [
    "points = [(4, 5), (-0, 2), (4, 7), (1, -3), (3, -2), (4, 5), (3, 2), (5, 7), (-5, 7), (2, 2), (-4, 5), (0, -2),\n",
    "          (-4, 7), (-1, 3), (-3, 2), (-4, -5), (-3, 2), (5, 7), (5, 7), (2, 2), (9, 9), (-8, -9)]\n",
    "\n",
    " \n",
    "Closest_to_center = []\n",
    "\n",
    "\n",
    "import math\n",
    "\n",
    "def pClosest(points, K): \n",
    "  \n",
    "    points.sort(key = lambda K: K[0]**2 + K[1]**2) \n",
    "  \n",
    "    return points[:K] \n",
    "\n",
    "\n",
    "K = 2\n",
    "Closest_to_center += pClosest(points, K)\n",
    "    \n",
    "print(\"Closest coordenates to center: \", Closest_to_center)\n",
    "\n",
    "\n",
    "p1 = [0, 0]\n",
    "p2 = Closest_to_center[0]\n",
    "p3 = Closest_to_center[1]\n",
    "distance2 = math.sqrt(((p1[0]-p2[0])**2)+((p1[1]-p2[1])**2))\n",
    "distance3 = math.sqrt(((p1[0]-p3[0])**2)+((p1[1]-p3[1])**2))\n",
    "\n",
    "\n",
    "\n",
    "print(\"Euclidean Distance to Center from \", p2, \":\", distance2)\n",
    "  \n",
    "print(\"Euclidean Distance to Center from \", p3, \":\", distance3)\n"
   ]
  },
  {
   "cell_type": "markdown",
   "metadata": {},
   "source": [
    "#### 4. If the archery target has a radius of 9, calculate the number of arrows that won't hit the target. \n",
    "**Hint**: Use the function created in step 3. "
   ]
  },
  {
   "cell_type": "code",
   "execution_count": 2,
   "metadata": {},
   "outputs": [
    {
     "name": "stdout",
     "output_type": "stream",
     "text": [
      "2\n",
      "[(9, 9), (-8, -9)]\n"
     ]
    }
   ],
   "source": [
    "points = [(4, 5), (-0, 2), (4, 7), (1, -3), (3, -2), (4, 5), (3, 2), (5, 7), (-5, 7), (2, 2), (-4, 5), (0, -2),\n",
    "          (-4, 7), (-1, 3), (-3, 2), (-4, -5), (-3, 2), (5, 7), (5, 7), (2, 2), (9, 9), (-8, -9)]\n",
    "\n",
    " \n",
    "\n",
    "missed_arrows_count = 0\n",
    "missed_arrows = []\n",
    "\n",
    "\n",
    "import math\n",
    "\n",
    "def pClosest(points, K): \n",
    "  \n",
    "    points.sort(key = lambda K: K[0]**2 + K[1]**2) \n",
    "  \n",
    "    return points[:K] \n",
    "\n",
    "K = 2\n",
    "\n",
    "    \n",
    "\n",
    "\n",
    "\n",
    "p1 = [0, 0]\n",
    "\n",
    "\n",
    "for arrow in points:\n",
    "\n",
    "    p1 = [0, 0]\n",
    "    distance = math.sqrt(((p1[0]-arrow[0])**2)+((p1[1]-arrow[1])**2))\n",
    "    if distance > 9:\n",
    "        missed_arrows_count += 1\n",
    "        missed_arrows.append(arrow)\n",
    "\n",
    "print(missed_arrows_count)    \n",
    "print(missed_arrows)\n"
   ]
  }
 ],
 "metadata": {
  "kernelspec": {
   "display_name": "Python 3",
   "language": "python",
   "name": "python3"
  },
  "language_info": {
   "codemirror_mode": {
    "name": "ipython",
    "version": 3
   },
   "file_extension": ".py",
   "mimetype": "text/x-python",
   "name": "python",
   "nbconvert_exporter": "python",
   "pygments_lexer": "ipython3",
   "version": "3.8.3"
  }
 },
 "nbformat": 4,
 "nbformat_minor": 2
}
